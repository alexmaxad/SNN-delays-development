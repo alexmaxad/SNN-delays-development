{
 "cells": [
  {
   "cell_type": "code",
   "execution_count": 1,
   "metadata": {},
   "outputs": [],
   "source": [
    "from datasets import SHD_dataloaders, SSC_dataloaders, GSC_dataloaders\n",
    "from config import Config\n",
    "from snn_delays import SnnDelays\n",
    "import torch\n",
    "from snn import SNN\n",
    "import utils"
   ]
  },
  {
   "cell_type": "code",
   "execution_count": null,
   "metadata": {},
   "outputs": [],
   "source": [
    "device = torch.device(\"cuda\" if torch.cuda.is_available() else \"cpu\")\n",
    "print(f\"\\n=====> Device = {device} \\n\\n\")"
   ]
  },
  {
   "cell_type": "code",
   "execution_count": null,
   "metadata": {},
   "outputs": [],
   "source": [
    "config = Config()"
   ]
  },
  {
   "cell_type": "code",
   "execution_count": null,
   "metadata": {},
   "outputs": [],
   "source": [
    "if config.model_type == 'snn':\n",
    "    model = SNN(config).to(device)\n",
    "else:\n",
    "    model = SnnDelays(config).to(device)\n",
    "\n",
    "if config.model_type == 'snn_delays_lr0':\n",
    "    model.round_pos()\n",
    "\n",
    "\n",
    "print(f\"===> Dataset    = {config.dataset}\")\n",
    "print(f\"===> Model type = {config.model_type}\")\n",
    "print(f\"===> Model size = {utils.count_parameters(model)}\\n\\n\")"
   ]
  },
  {
   "cell_type": "code",
   "execution_count": null,
   "metadata": {},
   "outputs": [],
   "source": [
    "if config.dataset == 'shd':\n",
    "    train_loader, valid_loader = SHD_dataloaders(config)\n",
    "    test_loader = None\n",
    "elif config.dataset == 'ssc':\n",
    "    train_loader, valid_loader, test_loader = SSC_dataloaders(config)\n",
    "elif config.dataset == 'gsc':\n",
    "    train_loader, valid_loader, test_loader = GSC_dataloaders(config)\n",
    "else:\n",
    "    raise Exception(f'dataset {config.dataset} not implemented')"
   ]
  },
  {
   "cell_type": "code",
   "execution_count": null,
   "metadata": {},
   "outputs": [],
   "source": [
    "model.train_model(train_loader, valid_loader, test_loader, device)"
   ]
  }
 ],
 "metadata": {
  "kernelspec": {
   "display_name": ".venv",
   "language": "python",
   "name": "python3"
  },
  "language_info": {
   "codemirror_mode": {
    "name": "ipython",
    "version": 3
   },
   "file_extension": ".py",
   "mimetype": "text/x-python",
   "name": "python",
   "nbconvert_exporter": "python",
   "pygments_lexer": "ipython3",
   "version": "3.8.10"
  }
 },
 "nbformat": 4,
 "nbformat_minor": 2
}
