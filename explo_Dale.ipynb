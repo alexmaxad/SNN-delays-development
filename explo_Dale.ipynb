{
 "cells": [
  {
   "cell_type": "code",
   "execution_count": 1,
   "metadata": {},
   "outputs": [],
   "source": [
    "from datasets import SHD_dataloaders, SSC_dataloaders, GSC_dataloaders\n",
    "from config import Config\n",
    "from snn_delays import SnnDelays\n",
    "import torch\n",
    "from snn import SNN\n",
    "import utils"
   ]
  },
  {
   "cell_type": "code",
   "execution_count": 2,
   "metadata": {},
   "outputs": [
    {
     "name": "stdout",
     "output_type": "stream",
     "text": [
      "\n",
      "=====> Device = cpu \n",
      "\n",
      "\n"
     ]
    }
   ],
   "source": [
    "device = torch.device(\"cuda\" if torch.cuda.is_available() else \"cpu\")\n",
    "print(f\"\\n=====> Device = {device} \\n\\n\")"
   ]
  },
  {
   "cell_type": "code",
   "execution_count": 3,
   "metadata": {},
   "outputs": [
    {
     "name": "stdout",
     "output_type": "stream",
     "text": [
      "je suis là\n",
      "===> Dataset    = shd\n",
      "===> Model type = snn_dale\n",
      "===> Model size = 214016\n",
      "\n",
      "\n"
     ]
    }
   ],
   "source": [
    "config = Config()\n",
    "\n",
    "if config.model_type == 'snn':\n",
    "    model = SNN(config).to(device)\n",
    "else:\n",
    "    model = SnnDelays(config).to(device)\n",
    "\n",
    "if config.model_type == 'snn_delays_lr0':\n",
    "    model.round_pos()\n",
    "\n",
    "\n",
    "print(f\"===> Dataset    = {config.dataset}\")\n",
    "print(f\"===> Model type = {config.model_type}\")\n",
    "print(f\"===> Model size = {utils.count_parameters(model)}\\n\\n\")"
   ]
  },
  {
   "cell_type": "code",
   "execution_count": 4,
   "metadata": {},
   "outputs": [
    {
     "name": "stdout",
     "output_type": "stream",
     "text": [
      "The directory [Datasets/SHD/extract] for saving extracted files already exists.\n",
      "SpikingJelly will not check the data integrity of extracted files.\n",
      "If extracted files are not integrated, please delete [Datasets/SHD/extract] manually, then SpikingJelly will re-extract files from [Datasets/SHD/download].\n",
      "The directory [Datasets/SHD/duration_10] already exists.\n",
      "The directory [Datasets/SHD/extract] for saving extracted files already exists.\n",
      "SpikingJelly will not check the data integrity of extracted files.\n",
      "If extracted files are not integrated, please delete [Datasets/SHD/extract] manually, then SpikingJelly will re-extract files from [Datasets/SHD/download].\n",
      "The directory [Datasets/SHD/duration_10] already exists.\n"
     ]
    }
   ],
   "source": [
    "if config.dataset == 'shd':\n",
    "    train_loader, valid_loader = SHD_dataloaders(config)\n",
    "    test_loader = None\n",
    "elif config.dataset == 'ssc':\n",
    "    train_loader, valid_loader, test_loader = SSC_dataloaders(config)\n",
    "elif config.dataset == 'gsc':\n",
    "    train_loader, valid_loader, test_loader = GSC_dataloaders(config)\n",
    "else:\n",
    "    raise Exception(f'dataset {config.dataset} not implemented')"
   ]
  },
  {
   "cell_type": "code",
   "execution_count": null,
   "metadata": {},
   "outputs": [],
   "source": [
    "#model.train_model(train_loader, valid_loader, test_loader, device)"
   ]
  },
  {
   "cell_type": "code",
   "execution_count": 5,
   "metadata": {},
   "outputs": [],
   "source": [
    "# Get one batch from the train_loader\n",
    "train_iter = iter(train_loader)\n",
    "first_batch = next(train_iter)"
   ]
  },
  {
   "cell_type": "code",
   "execution_count": 6,
   "metadata": {},
   "outputs": [
    {
     "name": "stdout",
     "output_type": "stream",
     "text": [
      "tensor([[0., 0., 0.,  ..., 0., 0., 0.],\n",
      "        [0., 0., 0.,  ..., 0., 0., 0.],\n",
      "        [0., 0., 0.,  ..., 0., 0., 1.],\n",
      "        ...,\n",
      "        [0., 0., 0.,  ..., 0., 0., 0.],\n",
      "        [0., 0., 0.,  ..., 0., 0., 0.],\n",
      "        [0., 0., 0.,  ..., 0., 0., 0.]], dtype=torch.float64) tensor(0)\n"
     ]
    }
   ],
   "source": [
    "# Assuming the batch is a tuple of (data, labels)\n",
    "data, labels, _ = first_batch\n",
    "\n",
    "# Print the first data point and its label\n",
    "print(data[0], labels[0])"
   ]
  },
  {
   "cell_type": "code",
   "execution_count": 7,
   "metadata": {},
   "outputs": [
    {
     "data": {
      "text/plain": [
       "torch.Size([256, 137, 140])"
      ]
     },
     "execution_count": 7,
     "metadata": {},
     "output_type": "execute_result"
    }
   ],
   "source": [
    "data.size()"
   ]
  },
  {
   "cell_type": "code",
   "execution_count": 12,
   "metadata": {},
   "outputs": [],
   "source": [
    "x, y = data[:, :30, :], data[:, 30:, :]"
   ]
  },
  {
   "cell_type": "code",
   "execution_count": 17,
   "metadata": {},
   "outputs": [
    {
     "ename": "RuntimeError",
     "evalue": "Sizes of tensors must match except in dimension 0. Expected size 30 but got size 107 for tensor number 1 in the list.",
     "output_type": "error",
     "traceback": [
      "\u001b[0;31m---------------------------------------------------------------------------\u001b[0m",
      "\u001b[0;31mRuntimeError\u001b[0m                              Traceback (most recent call last)",
      "Cell \u001b[0;32mIn[17], line 1\u001b[0m\n\u001b[0;32m----> 1\u001b[0m \u001b[43mtorch\u001b[49m\u001b[38;5;241;43m.\u001b[39;49m\u001b[43mcat\u001b[49m\u001b[43m(\u001b[49m\u001b[43m(\u001b[49m\u001b[43mx\u001b[49m\u001b[43m,\u001b[49m\u001b[43m \u001b[49m\u001b[43my\u001b[49m\u001b[43m)\u001b[49m\u001b[43m,\u001b[49m\u001b[43m \u001b[49m\u001b[38;5;241;43m0\u001b[39;49m\u001b[43m)\u001b[49m\u001b[38;5;241m.\u001b[39msize()\n",
      "\u001b[0;31mRuntimeError\u001b[0m: Sizes of tensors must match except in dimension 0. Expected size 30 but got size 107 for tensor number 1 in the list."
     ]
    }
   ],
   "source": [
    "torch.cat((x, y), 0).size()"
   ]
  },
  {
   "cell_type": "code",
   "execution_count": null,
   "metadata": {},
   "outputs": [],
   "source": [
    "data = data.permute(1,0,2).float().to(device)  #(time, batch, neurons)\n",
    "output = model.forward(data)"
   ]
  },
  {
   "cell_type": "code",
   "execution_count": null,
   "metadata": {},
   "outputs": [],
   "source": [
    "output"
   ]
  },
  {
   "cell_type": "code",
   "execution_count": null,
   "metadata": {},
   "outputs": [],
   "source": [
    "x = torch.rand(10, 2) > 0.2\n",
    "x"
   ]
  },
  {
   "cell_type": "code",
   "execution_count": null,
   "metadata": {},
   "outputs": [],
   "source": [
    "x[:, 1]"
   ]
  },
  {
   "cell_type": "code",
   "execution_count": null,
   "metadata": {},
   "outputs": [],
   "source": [
    "model.train_model(train_loader, valid_loader, test_loader, device)"
   ]
  },
  {
   "cell_type": "markdown",
   "metadata": {},
   "source": [
    "# **Nouvelle classe linéaire**"
   ]
  },
  {
   "cell_type": "code",
   "execution_count": 1,
   "metadata": {},
   "outputs": [],
   "source": [
    "import torch\n",
    "import torch.nn as nn\n",
    "import torch.optim as optim\n",
    "import torch.nn.functional as F"
   ]
  },
  {
   "cell_type": "code",
   "execution_count": 3,
   "metadata": {},
   "outputs": [],
   "source": [
    "x = torch.tensor([1, 2, 3, 4, 5, 6, 7, 8, 9, 10])"
   ]
  },
  {
   "cell_type": "code",
   "execution_count": 8,
   "metadata": {},
   "outputs": [
    {
     "data": {
      "text/plain": [
       "tensor([1, 2, 3])"
      ]
     },
     "execution_count": 8,
     "metadata": {},
     "output_type": "execute_result"
    }
   ],
   "source": [
    "x[:3]"
   ]
  },
  {
   "cell_type": "code",
   "execution_count": 16,
   "metadata": {},
   "outputs": [],
   "source": [
    "class DaleLinear(nn.Module):\n",
    "\n",
    "    def __init__(self, in_features, out_features, exc_proportion):\n",
    "        super().__init__()\n",
    "\n",
    "        self.in_features_exc = round(in_features * exc_proportion)\n",
    "        self.in_features_inh = in_features - self.in_features_exc\n",
    "\n",
    "        self.w_exc = nn.Parameter(torch.rand(out_features, self.in_features_exc))\n",
    "        self.w_inh = nn.Parameter(torch.rand(out_features, self.in_features_inh))\n",
    "        self.bias = nn.Parameter(torch.rand(out_features, in_features))\n",
    "\n",
    "    def forward(self, x):\n",
    "\n",
    "        x_exc, x_inh = x[:, :self.in_features_exc, :]\n",
    "\n",
    "        out_exc = F.linear(x_exc, torch.abs(self.w_exc), bias=False)\n",
    "        out_inh = F.linear(x_inh, torch.abs(self.w_inh), bias=False)\n",
    "        \n",
    "        out = out_exc + out_inh + self.bias\n",
    "\n",
    "        return out\n",
    "    "
   ]
  }
 ],
 "metadata": {
  "kernelspec": {
   "display_name": ".venv",
   "language": "python",
   "name": "python3"
  },
  "language_info": {
   "codemirror_mode": {
    "name": "ipython",
    "version": 3
   },
   "file_extension": ".py",
   "mimetype": "text/x-python",
   "name": "python",
   "nbconvert_exporter": "python",
   "pygments_lexer": "ipython3",
   "version": "3.8.10"
  }
 },
 "nbformat": 4,
 "nbformat_minor": 2
}
