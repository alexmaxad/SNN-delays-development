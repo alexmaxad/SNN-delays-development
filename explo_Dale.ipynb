{
 "cells": [
  {
   "cell_type": "code",
   "execution_count": 5,
   "metadata": {},
   "outputs": [],
   "source": [
    "from datasets import SHD_dataloaders, SSC_dataloaders, GSC_dataloaders\n",
    "from config import Config\n",
    "from snn_delays import SnnDelays\n",
    "from snn_delays_daleian import SnnDelays_Dale\n",
    "from snn_daleian import SNN_Dale\n",
    "import torch\n",
    "from snn import SNN\n",
    "import utils"
   ]
  },
  {
   "cell_type": "code",
   "execution_count": 6,
   "metadata": {},
   "outputs": [
    {
     "name": "stdout",
     "output_type": "stream",
     "text": [
      "\n",
      "=====> Device = cpu \n",
      "\n",
      "\n"
     ]
    }
   ],
   "source": [
    "device = torch.device(\"cuda\" if torch.cuda.is_available() else \"cpu\")\n",
    "print(f\"\\n=====> Device = {device} \\n\\n\")"
   ]
  },
  {
   "cell_type": "code",
   "execution_count": 16,
   "metadata": {},
   "outputs": [
    {
     "name": "stdout",
     "output_type": "stream",
     "text": [
      "===> Dataset    = shd\n",
      "===> Model type = snn_dale\n",
      "===> Model size = 107520\n",
      "\n",
      "\n"
     ]
    }
   ],
   "source": [
    "config = Config()\n",
    "\n",
    "if config.model_type == 'snn':\n",
    "    model = SNN(config).to(device)\n",
    "if config.model_type == 'snn_delays_dale':\n",
    "    model = SnnDelays_Dale(config).to(device)\n",
    "if config.model_type == 'snn_dale':\n",
    "    model = SNN_Dale(config).to(device)\n",
    "else:\n",
    "    model = SnnDelays(config).to(device)\n",
    "\n",
    "if config.model_type == 'snn_delays_lr0':\n",
    "    model.round_pos()\n",
    "\n",
    "\n",
    "print(f\"===> Dataset    = {config.dataset}\")\n",
    "print(f\"===> Model type = {config.model_type}\")\n",
    "print(f\"===> Model size = {utils.count_parameters(model)}\\n\\n\")"
   ]
  },
  {
   "cell_type": "code",
   "execution_count": 9,
   "metadata": {},
   "outputs": [
    {
     "name": "stdout",
     "output_type": "stream",
     "text": [
      "The directory [Datasets/SHD/extract] for saving extracted files already exists.\n",
      "SpikingJelly will not check the data integrity of extracted files.\n",
      "If extracted files are not integrated, please delete [Datasets/SHD/extract] manually, then SpikingJelly will re-extract files from [Datasets/SHD/download].\n",
      "The directory [Datasets/SHD/duration_10] already exists.\n",
      "The directory [Datasets/SHD/extract] for saving extracted files already exists.\n",
      "SpikingJelly will not check the data integrity of extracted files.\n",
      "If extracted files are not integrated, please delete [Datasets/SHD/extract] manually, then SpikingJelly will re-extract files from [Datasets/SHD/download].\n",
      "The directory [Datasets/SHD/duration_10] already exists.\n"
     ]
    }
   ],
   "source": [
    "if config.dataset == 'shd':\n",
    "    train_loader, valid_loader = SHD_dataloaders(config)\n",
    "    test_loader = None\n",
    "elif config.dataset == 'ssc':\n",
    "    train_loader, valid_loader, test_loader = SSC_dataloaders(config)\n",
    "elif config.dataset == 'gsc':\n",
    "    train_loader, valid_loader, test_loader = GSC_dataloaders(config)\n",
    "else:\n",
    "    raise Exception(f'dataset {config.dataset} not implemented')"
   ]
  },
  {
   "cell_type": "code",
   "execution_count": 17,
   "metadata": {},
   "outputs": [],
   "source": [
    "#model.train_model(train_loader, valid_loader, test_loader, device)"
   ]
  },
  {
   "cell_type": "code",
   "execution_count": 10,
   "metadata": {},
   "outputs": [],
   "source": [
    "# Get one batch from the train_loader\n",
    "train_iter = iter(train_loader)\n",
    "first_batch = next(train_iter)"
   ]
  },
  {
   "cell_type": "code",
   "execution_count": 11,
   "metadata": {},
   "outputs": [
    {
     "name": "stdout",
     "output_type": "stream",
     "text": [
      "tensor([[0., 0., 0.,  ..., 0., 0., 0.],\n",
      "        [0., 0., 0.,  ..., 0., 0., 0.],\n",
      "        [0., 0., 0.,  ..., 0., 0., 1.],\n",
      "        ...,\n",
      "        [0., 0., 0.,  ..., 0., 0., 0.],\n",
      "        [0., 0., 0.,  ..., 0., 0., 0.],\n",
      "        [0., 0., 0.,  ..., 0., 0., 0.]], dtype=torch.float64) tensor(0)\n"
     ]
    }
   ],
   "source": [
    "# Assuming the batch is a tuple of (data, labels)\n",
    "data, labels, _ = first_batch\n",
    "\n",
    "# Print the first data point and its label\n",
    "print(data[0], labels[0])"
   ]
  },
  {
   "cell_type": "code",
   "execution_count": 12,
   "metadata": {},
   "outputs": [
    {
     "data": {
      "text/plain": [
       "torch.Size([256, 137, 140])"
      ]
     },
     "execution_count": 12,
     "metadata": {},
     "output_type": "execute_result"
    }
   ],
   "source": [
    "data.size()"
   ]
  },
  {
   "cell_type": "code",
   "execution_count": 13,
   "metadata": {},
   "outputs": [],
   "source": [
    "data = data.permute(1,0,2).float().to(device)  #(time, batch, neurons)"
   ]
  },
  {
   "cell_type": "code",
   "execution_count": 12,
   "metadata": {},
   "outputs": [
    {
     "data": {
      "text/plain": [
       "torch.Size([121, 256, 140])"
      ]
     },
     "execution_count": 12,
     "metadata": {},
     "output_type": "execute_result"
    }
   ],
   "source": [
    "data.size()"
   ]
  },
  {
   "cell_type": "code",
   "execution_count": null,
   "metadata": {},
   "outputs": [],
   "source": [
    "output = model.forward(data)"
   ]
  },
  {
   "cell_type": "code",
   "execution_count": null,
   "metadata": {},
   "outputs": [],
   "source": [
    "output"
   ]
  },
  {
   "cell_type": "code",
   "execution_count": null,
   "metadata": {},
   "outputs": [],
   "source": [
    "x = torch.rand(10, 2) > 0.2\n",
    "x"
   ]
  },
  {
   "cell_type": "code",
   "execution_count": null,
   "metadata": {},
   "outputs": [],
   "source": [
    "x[:, 1]"
   ]
  },
  {
   "cell_type": "code",
   "execution_count": null,
   "metadata": {},
   "outputs": [],
   "source": [
    "model.train_model(train_loader, valid_loader, test_loader, device)"
   ]
  },
  {
   "cell_type": "markdown",
   "metadata": {},
   "source": [
    "# **Nouvelle classe linéaire**"
   ]
  },
  {
   "cell_type": "code",
   "execution_count": 1,
   "metadata": {},
   "outputs": [],
   "source": [
    "import torch\n",
    "import torch.nn as nn\n",
    "import torch.optim as optim\n",
    "import torch.nn.functional as F"
   ]
  },
  {
   "cell_type": "code",
   "execution_count": null,
   "metadata": {},
   "outputs": [],
   "source": [
    "from DaleLinear import DaleLinear"
   ]
  },
  {
   "cell_type": "code",
   "execution_count": 4,
   "metadata": {},
   "outputs": [
    {
     "data": {
      "text/plain": [
       "tensor([2.7446e-34, 0.0000e+00, 2.8191e-34])"
      ]
     },
     "execution_count": 4,
     "metadata": {},
     "output_type": "execute_result"
    }
   ],
   "source": [
    "torch.empty(3)"
   ]
  },
  {
   "cell_type": "code",
   "execution_count": 25,
   "metadata": {},
   "outputs": [],
   "source": [
    "import torch\n",
    "import torch.nn as nn\n",
    "import torch.nn.functional as F\n",
    "import math\n",
    "\n",
    "class DANNLayer(nn.Module):\n",
    "    def __init__(self, in_features, out_features, exc_proportion, bias, step_mode):\n",
    "        super().__init__()\n",
    "\n",
    "        self.in_features = in_features\n",
    "        \n",
    "        self.in_features_exc = round(in_features * exc_proportion)\n",
    "        self.in_features_inh = in_features - self.in_features_exc\n",
    "\n",
    "        # Initialize parameters\n",
    "        self.WEE = nn.Parameter(torch.empty(self.in_features_exc, self.in_features_exc))\n",
    "        self.WIE = nn.Parameter(torch.empty(self.in_features_inh, self.in_features_exc))\n",
    "        self.WEI = nn.Parameter(torch.empty(self.in_features_exc, self.in_features_inh))\n",
    "        self.alpha = nn.Parameter(torch.empty(self.in_features_inh, 1))\n",
    "        self.g = nn.Parameter(torch.empty(self.in_features_exc, 1))\n",
    "        self.beta = nn.Parameter(torch.empty(self.in_features_exc, 1))\n",
    "\n",
    "        self.step_mode = step_mode\n",
    "\n",
    "        self.init_weights()\n",
    "\n",
    "    def init_weights(self):\n",
    "        lambda_E = math.sqrt(self.in_features * (2 * math.pi - 1) / (2 * math.pi))\n",
    "        exponential_dist = torch.distributions.exponential.Exponential(lambda_E)\n",
    "\n",
    "        with torch.no_grad():\n",
    "            self.WEE.copy_(exponential_dist.sample(self.WEE.shape))\n",
    "        \n",
    "            if self.in_features_inh == 1:\n",
    "                self.WIE.fill_((1 / self.in_features_exc) * torch.sum(self.WEE, dim=1))\n",
    "                self.WEI.fill_(1)\n",
    "            else:\n",
    "                self.WIE.copy_(exponential_dist.sample(self.WIE.shape))\n",
    "                self.WEI.fill_(1 / self.in_features_exc)\n",
    "        \n",
    "            self.alpha.fill_(math.log(math.sqrt(2 * math.pi - 1) / math.sqrt(self.in_features)))\n",
    "            self.g.fill_(1)\n",
    "            self.beta.fill_(1)\n",
    "\n",
    "    def forward(self, x):\n",
    "        # x is expected to be of shape (time, batch_size, ne)\n",
    "        \n",
    "        zE = torch.mm(self.WEE, x.T) #(ne, batch_size)\n",
    "        hI = torch.mm(self.WIE, x.T) #(ni, batch_size)\n",
    "        \n",
    "        inhibition_effect = torch.mm(self.WEI, hI) #(ne, batch_size)\n",
    "        \n",
    "        gamma = torch.mm(self.WEI,  hI * torch.exp(self.alpha)) + 1e-8 #(ne, batch_size)\n",
    "\n",
    "        z = (self.g/gamma) * (zE - inhibition_effect) + self.beta.T #(ne, batch_size)\n",
    "        \n",
    "        h = F.relu(z) #(ne, batch_size)\n",
    "        \n",
    "        return h\n",
    "\n",
    "        \n",
    "\n",
    "    def update_weights(self, eta, grads):\n",
    "        with torch.no_grad():\n",
    "            self.WEE -= eta * grads['WEE']\n",
    "            self.WIE -= eta * grads['WIE']\n",
    "            self.WEI -= eta * grads['WEI']\n",
    "            self.alpha -= eta * grads['alpha']\n",
    "            self.g -= eta * grads['g']\n",
    "            self.beta -= eta * grads['beta']\n",
    "            \n",
    "            self.WEE.data = torch.clamp(self.WEE.data, min=0)\n",
    "            self.WIE.data = torch.clamp(self.WIE.data, min=0)\n",
    "            self.WEI.data = torch.clamp(self.WEI.data, min=0)\n",
    "            self.g.data = torch.clamp(self.g.data, min=0)\n",
    "\n",
    "    def correct_gradients(self, grads):\n",
    "        grads['WEE'] = grads['WEE']\n",
    "        grads['WIE'] = grads['WIE'] / math.sqrt(self.ne)\n",
    "        grads['WEI'] = grads['WEI'] / self.in_features\n",
    "        grads['alpha'] = grads['alpha'] / (self.in_features * math.sqrt(self.ne))\n",
    "        grads['g'] = grads['g']\n",
    "        grads['beta'] = grads['beta']\n",
    "        return grads"
   ]
  },
  {
   "cell_type": "code",
   "execution_count": 18,
   "metadata": {},
   "outputs": [],
   "source": [
    "x = torch.rand([100, 256, 50])"
   ]
  },
  {
   "cell_type": "code",
   "execution_count": 27,
   "metadata": {},
   "outputs": [],
   "source": [
    "D = DANNLayer(50, 30, 0.8, bias=False, step_mode='m')"
   ]
  },
  {
   "cell_type": "code",
   "execution_count": 28,
   "metadata": {},
   "outputs": [
    {
     "ename": "RuntimeError",
     "evalue": "mat2 must be a matrix",
     "output_type": "error",
     "traceback": [
      "\u001b[0;31m---------------------------------------------------------------------------\u001b[0m",
      "\u001b[0;31mRuntimeError\u001b[0m                              Traceback (most recent call last)",
      "Cell \u001b[0;32mIn[28], line 1\u001b[0m\n\u001b[0;32m----> 1\u001b[0m \u001b[43mD\u001b[49m\u001b[43m(\u001b[49m\u001b[43mx\u001b[49m\u001b[43m)\u001b[49m\n",
      "File \u001b[0;32m~/Bureau/SNN-delays-development/.venv/lib/python3.8/site-packages/torch/nn/modules/module.py:1532\u001b[0m, in \u001b[0;36mModule._wrapped_call_impl\u001b[0;34m(self, *args, **kwargs)\u001b[0m\n\u001b[1;32m   1530\u001b[0m     \u001b[38;5;28;01mreturn\u001b[39;00m \u001b[38;5;28mself\u001b[39m\u001b[38;5;241m.\u001b[39m_compiled_call_impl(\u001b[38;5;241m*\u001b[39margs, \u001b[38;5;241m*\u001b[39m\u001b[38;5;241m*\u001b[39mkwargs)  \u001b[38;5;66;03m# type: ignore[misc]\u001b[39;00m\n\u001b[1;32m   1531\u001b[0m \u001b[38;5;28;01melse\u001b[39;00m:\n\u001b[0;32m-> 1532\u001b[0m     \u001b[38;5;28;01mreturn\u001b[39;00m \u001b[38;5;28;43mself\u001b[39;49m\u001b[38;5;241;43m.\u001b[39;49m\u001b[43m_call_impl\u001b[49m\u001b[43m(\u001b[49m\u001b[38;5;241;43m*\u001b[39;49m\u001b[43margs\u001b[49m\u001b[43m,\u001b[49m\u001b[43m \u001b[49m\u001b[38;5;241;43m*\u001b[39;49m\u001b[38;5;241;43m*\u001b[39;49m\u001b[43mkwargs\u001b[49m\u001b[43m)\u001b[49m\n",
      "File \u001b[0;32m~/Bureau/SNN-delays-development/.venv/lib/python3.8/site-packages/torch/nn/modules/module.py:1541\u001b[0m, in \u001b[0;36mModule._call_impl\u001b[0;34m(self, *args, **kwargs)\u001b[0m\n\u001b[1;32m   1536\u001b[0m \u001b[38;5;66;03m# If we don't have any hooks, we want to skip the rest of the logic in\u001b[39;00m\n\u001b[1;32m   1537\u001b[0m \u001b[38;5;66;03m# this function, and just call forward.\u001b[39;00m\n\u001b[1;32m   1538\u001b[0m \u001b[38;5;28;01mif\u001b[39;00m \u001b[38;5;129;01mnot\u001b[39;00m (\u001b[38;5;28mself\u001b[39m\u001b[38;5;241m.\u001b[39m_backward_hooks \u001b[38;5;129;01mor\u001b[39;00m \u001b[38;5;28mself\u001b[39m\u001b[38;5;241m.\u001b[39m_backward_pre_hooks \u001b[38;5;129;01mor\u001b[39;00m \u001b[38;5;28mself\u001b[39m\u001b[38;5;241m.\u001b[39m_forward_hooks \u001b[38;5;129;01mor\u001b[39;00m \u001b[38;5;28mself\u001b[39m\u001b[38;5;241m.\u001b[39m_forward_pre_hooks\n\u001b[1;32m   1539\u001b[0m         \u001b[38;5;129;01mor\u001b[39;00m _global_backward_pre_hooks \u001b[38;5;129;01mor\u001b[39;00m _global_backward_hooks\n\u001b[1;32m   1540\u001b[0m         \u001b[38;5;129;01mor\u001b[39;00m _global_forward_hooks \u001b[38;5;129;01mor\u001b[39;00m _global_forward_pre_hooks):\n\u001b[0;32m-> 1541\u001b[0m     \u001b[38;5;28;01mreturn\u001b[39;00m \u001b[43mforward_call\u001b[49m\u001b[43m(\u001b[49m\u001b[38;5;241;43m*\u001b[39;49m\u001b[43margs\u001b[49m\u001b[43m,\u001b[49m\u001b[43m \u001b[49m\u001b[38;5;241;43m*\u001b[39;49m\u001b[38;5;241;43m*\u001b[39;49m\u001b[43mkwargs\u001b[49m\u001b[43m)\u001b[49m\n\u001b[1;32m   1543\u001b[0m \u001b[38;5;28;01mtry\u001b[39;00m:\n\u001b[1;32m   1544\u001b[0m     result \u001b[38;5;241m=\u001b[39m \u001b[38;5;28;01mNone\u001b[39;00m\n",
      "Cell \u001b[0;32mIn[25], line 48\u001b[0m, in \u001b[0;36mDANNLayer.forward\u001b[0;34m(self, x)\u001b[0m\n\u001b[1;32m     45\u001b[0m \u001b[38;5;28;01mdef\u001b[39;00m \u001b[38;5;21mforward\u001b[39m(\u001b[38;5;28mself\u001b[39m, x):\n\u001b[1;32m     46\u001b[0m     \u001b[38;5;66;03m# x is expected to be of shape (time, batch_size, ne)\u001b[39;00m\n\u001b[0;32m---> 48\u001b[0m     zE \u001b[38;5;241m=\u001b[39m \u001b[43mtorch\u001b[49m\u001b[38;5;241;43m.\u001b[39;49m\u001b[43mmm\u001b[49m\u001b[43m(\u001b[49m\u001b[38;5;28;43mself\u001b[39;49m\u001b[38;5;241;43m.\u001b[39;49m\u001b[43mWEE\u001b[49m\u001b[43m,\u001b[49m\u001b[43m \u001b[49m\u001b[43mx\u001b[49m\u001b[43m)\u001b[49m \u001b[38;5;66;03m#(ne, batch_size)\u001b[39;00m\n\u001b[1;32m     49\u001b[0m     hI \u001b[38;5;241m=\u001b[39m torch\u001b[38;5;241m.\u001b[39mmm(\u001b[38;5;28mself\u001b[39m\u001b[38;5;241m.\u001b[39mWIE, x) \u001b[38;5;66;03m#(ni, batch_size)\u001b[39;00m\n\u001b[1;32m     51\u001b[0m     inhibition_effect \u001b[38;5;241m=\u001b[39m torch\u001b[38;5;241m.\u001b[39mmm(\u001b[38;5;28mself\u001b[39m\u001b[38;5;241m.\u001b[39mWEI, hI) \u001b[38;5;66;03m#(ne, batch_size)\u001b[39;00m\n",
      "\u001b[0;31mRuntimeError\u001b[0m: mat2 must be a matrix"
     ]
    }
   ],
   "source": [
    "D(x)"
   ]
  },
  {
   "cell_type": "code",
   "execution_count": 4,
   "metadata": {},
   "outputs": [
    {
     "name": "stdout",
     "output_type": "stream",
     "text": [
      "<class 'str'>\n"
     ]
    }
   ],
   "source": [
    "#l = [['u', 'i']]\n",
    "l = ['u']\n",
    "\n",
    "for i in l[0]:\n",
    "\n",
    "    print(type(i))"
   ]
  }
 ],
 "metadata": {
  "kernelspec": {
   "display_name": ".venv",
   "language": "python",
   "name": "python3"
  },
  "language_info": {
   "codemirror_mode": {
    "name": "ipython",
    "version": 3
   },
   "file_extension": ".py",
   "mimetype": "text/x-python",
   "name": "python",
   "nbconvert_exporter": "python",
   "pygments_lexer": "ipython3",
   "version": "3.8.10"
  }
 },
 "nbformat": 4,
 "nbformat_minor": 2
}
